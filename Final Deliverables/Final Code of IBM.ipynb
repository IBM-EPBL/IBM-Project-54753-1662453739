{
 "cells": [
  {
   "cell_type": "markdown",
   "id": "df16ffbf",
   "metadata": {},
   "source": [
    "## Importing required Libraries"
   ]
  },
  {
   "cell_type": "code",
   "execution_count": 1,
   "id": "6c5760db",
   "metadata": {},
   "outputs": [],
   "source": [
    "import numpy as np\n",
    "import pandas as pd\n",
    "import matplotlib.pyplot as plt\n",
    "import seaborn as sns\n",
    "import zipfile as zf\n",
    "import os\n",
    "import random\n",
    "import cv2\n",
    "import pickle\n",
    "from imutils import build_montages\n",
    "from imutils import paths\n",
    "from sklearn.metrics import classification_report,confusion_matrix\n",
    "from sklearn import metrics\n",
    "from sklearn.preprocessing import LabelEncoder,LabelBinarizer\n",
    "from sklearn.model_selection import train_test_split\n",
    "from sklearn.ensemble import RandomForestClassifier,GradientBoostingClassifier,ExtraTreesClassifier\n",
    "from skimage import feature\n",
    "#from google.colab.patches import cv2_imshow"
   ]
  },
  {
   "cell_type": "code",
   "execution_count": 2,
   "id": "b8a85c24",
   "metadata": {},
   "outputs": [
    {
     "data": {
      "text/plain": [
       "'C:\\\\Users\\\\harih\\\\OneDrive\\\\Desktop\\\\IBM Project'"
      ]
     },
     "execution_count": 2,
     "metadata": {},
     "output_type": "execute_result"
    }
   ],
   "source": [
    "sns.set()\n",
    "os.getcwd()"
   ]
  },
  {
   "cell_type": "markdown",
   "id": "6d2083b6",
   "metadata": {},
   "source": [
    "## Loading the dataset"
   ]
  },
  {
   "cell_type": "code",
   "execution_count": 3,
   "id": "593d9a32",
   "metadata": {},
   "outputs": [],
   "source": [
    "handle_spiral = zf.ZipFile(r'dataset.zip')\n",
    "handle_spiral.extractall('dataset')\n",
    "handle_spiral.close()"
   ]
  },
  {
   "cell_type": "code",
   "execution_count": 4,
   "id": "509f6e3e",
   "metadata": {},
   "outputs": [],
   "source": [
    "spiral_train_healthy = os.listdir('dataset/dataset/spiral/training/healthy/')\n",
    "spiral_train_park = os.listdir('dataset/dataset/spiral/training/parkinson/')\n",
    "\n",
    "fp_spiral_train_healthy = 'dataset/dataset/spiral/training/healthy/'\n",
    "fp_spiral_train_park = 'dataset/dataset/spiral/training/parkinson/'\n",
    "\n",
    "spiral_test_healthy = os.listdir('dataset/dataset/spiral/testing/healthy/')\n",
    "spiral_test_park = os.listdir('dataset/dataset/spiral/testing/parkinson/')\n",
    "\n",
    "fp_spiral_test_healthy = 'dataset/dataset/spiral/testing/healthy/'\n",
    "fp_spiral_test_park = 'dataset/dataset/spiral/testing/parkinson/'"
   ]
  },
  {
   "cell_type": "markdown",
   "id": "f48e6b82",
   "metadata": {},
   "source": [
    "## Qunatifying the images"
   ]
  },
  {
   "cell_type": "code",
   "execution_count": 5,
   "id": "05c7f34d",
   "metadata": {},
   "outputs": [],
   "source": [
    "def quantify_image(image):\n",
    "  features = feature.hog(image,orientations=9,\n",
    "                pixels_per_cell=(10,10),cells_per_block=(2,2),transform_sqrt=True,block_norm=\"L1\")\n",
    "\n",
    "  return features"
   ]
  },
  {
   "cell_type": "markdown",
   "id": "1a26d673",
   "metadata": {},
   "source": [
    "## Splitting of Training and Testing Data"
   ]
  },
  {
   "cell_type": "code",
   "execution_count": 6,
   "id": "ce8bbdaa",
   "metadata": {},
   "outputs": [],
   "source": [
    "trainX = []\n",
    "testX = []\n",
    "outputs = []\n",
    "trainY = []\n",
    "testY = []\n",
    "\n",
    "for i in spiral_train_healthy:\n",
    "  image = cv2.imread(fp_spiral_train_healthy+i)\n",
    "  image = cv2.cvtColor(image , cv2.COLOR_BGR2GRAY)\n",
    "  image = cv2.resize(image , (200,200))\n",
    "  image =cv2.threshold(image, 0, 255,cv2.THRESH_BINARY_INV | cv2.THRESH_OTSU)[1]\n",
    "  features = quantify_image(image)\n",
    "  trainX.append(features)\n",
    "  trainY.append('healthy')\n",
    "\n",
    "for i in spiral_train_park:\n",
    "  image = cv2.imread(fp_spiral_train_park+i)\n",
    "  image = cv2.cvtColor(image , cv2.COLOR_BGR2GRAY)\n",
    "  image = cv2.resize(image , (200,200))\n",
    "  image = cv2.threshold(image ,0,255,cv2.THRESH_BINARY_INV | cv2.THRESH_OTSU)[1]\n",
    "  features = quantify_image(image)\n",
    "  trainX.append(features)\n",
    "  trainY.append('parkinson')\n",
    "\n",
    "\n",
    "for i in spiral_test_healthy:\n",
    "  image = cv2.imread(fp_spiral_test_healthy+i)\n",
    "  outputs.append(image)\n",
    "  image = cv2.cvtColor(image , cv2.COLOR_BGR2GRAY)\n",
    "  image = cv2.resize(image , (200,200))\n",
    "  image = cv2.threshold(image ,0,255,cv2.THRESH_BINARY_INV | cv2.THRESH_OTSU)[1]\n",
    "  features = quantify_image(image)\n",
    "  testX.append(features)\n",
    "  testY.append('healthy')\n",
    "\n",
    "for i in spiral_test_park:\n",
    "  image = cv2.imread(fp_spiral_test_park+i)\n",
    "  outputs.append(image)\n",
    "  image = cv2.cvtColor(image , cv2.COLOR_BGR2GRAY)\n",
    "  image = cv2.resize(image , (200,200))\n",
    "  image = cv2.threshold(image ,0,255,cv2.THRESH_BINARY_INV | cv2.THRESH_OTSU)[1]\n",
    "  features = quantify_image(image)\n",
    "  testX.append(features)\n",
    "  testY.append('parkinson')"
   ]
  },
  {
   "cell_type": "code",
   "execution_count": 7,
   "id": "161c94fb",
   "metadata": {},
   "outputs": [
    {
     "data": {
      "text/plain": [
       "array([[0., 0., 0., ..., 0., 0., 0.],\n",
       "       [0., 0., 0., ..., 0., 0., 0.],\n",
       "       [0., 0., 0., ..., 0., 0., 0.],\n",
       "       ...,\n",
       "       [0., 0., 0., ..., 0., 0., 0.],\n",
       "       [0., 0., 0., ..., 0., 0., 0.],\n",
       "       [0., 0., 0., ..., 0., 0., 0.]])"
      ]
     },
     "execution_count": 7,
     "metadata": {},
     "output_type": "execute_result"
    }
   ],
   "source": [
    "trainX = np.array(trainX)\n",
    "testX = np.array(testX)\n",
    "trainY = np.array(trainY)\n",
    "testY = np.array(testY)\n",
    "trainX"
   ]
  },
  {
   "cell_type": "code",
   "execution_count": 8,
   "id": "72e7412b",
   "metadata": {},
   "outputs": [
    {
     "data": {
      "text/plain": [
       "array(['healthy', 'healthy', 'healthy', 'healthy', 'healthy', 'healthy',\n",
       "       'healthy', 'healthy', 'healthy', 'healthy', 'healthy', 'healthy',\n",
       "       'healthy', 'healthy', 'healthy', 'healthy', 'healthy', 'healthy',\n",
       "       'healthy', 'healthy', 'healthy', 'healthy', 'healthy', 'healthy',\n",
       "       'healthy', 'healthy', 'healthy', 'healthy', 'healthy', 'healthy',\n",
       "       'healthy', 'healthy', 'healthy', 'healthy', 'healthy', 'healthy',\n",
       "       'parkinson', 'parkinson', 'parkinson', 'parkinson', 'parkinson',\n",
       "       'parkinson', 'parkinson', 'parkinson', 'parkinson', 'parkinson',\n",
       "       'parkinson', 'parkinson', 'parkinson', 'parkinson', 'parkinson',\n",
       "       'parkinson', 'parkinson', 'parkinson', 'parkinson', 'parkinson',\n",
       "       'parkinson', 'parkinson', 'parkinson', 'parkinson', 'parkinson',\n",
       "       'parkinson', 'parkinson', 'parkinson', 'parkinson', 'parkinson',\n",
       "       'parkinson', 'parkinson', 'parkinson', 'parkinson', 'parkinson',\n",
       "       'parkinson'], dtype='<U9')"
      ]
     },
     "execution_count": 8,
     "metadata": {},
     "output_type": "execute_result"
    }
   ],
   "source": [
    "trainY"
   ]
  },
  {
   "cell_type": "code",
   "execution_count": 9,
   "id": "9f12ece4",
   "metadata": {},
   "outputs": [
    {
     "data": {
      "text/plain": [
       "array([[0., 0., 0., ..., 0., 0., 0.],\n",
       "       [0., 0., 0., ..., 0., 0., 0.],\n",
       "       [0., 0., 0., ..., 0., 0., 0.],\n",
       "       ...,\n",
       "       [0., 0., 0., ..., 0., 0., 0.],\n",
       "       [0., 0., 0., ..., 0., 0., 0.],\n",
       "       [0., 0., 0., ..., 0., 0., 0.]])"
      ]
     },
     "execution_count": 9,
     "metadata": {},
     "output_type": "execute_result"
    }
   ],
   "source": [
    "testX"
   ]
  },
  {
   "cell_type": "code",
   "execution_count": 10,
   "id": "274f61ac",
   "metadata": {},
   "outputs": [
    {
     "data": {
      "text/plain": [
       "array(['healthy', 'healthy', 'healthy', 'healthy', 'healthy', 'healthy',\n",
       "       'healthy', 'healthy', 'healthy', 'healthy', 'healthy', 'healthy',\n",
       "       'healthy', 'healthy', 'healthy', 'parkinson', 'parkinson',\n",
       "       'parkinson', 'parkinson', 'parkinson', 'parkinson', 'parkinson',\n",
       "       'parkinson', 'parkinson', 'parkinson', 'parkinson', 'parkinson',\n",
       "       'parkinson', 'parkinson', 'parkinson'], dtype='<U9')"
      ]
     },
     "execution_count": 10,
     "metadata": {},
     "output_type": "execute_result"
    }
   ],
   "source": [
    "testY"
   ]
  },
  {
   "cell_type": "markdown",
   "id": "95a6929a",
   "metadata": {},
   "source": [
    "## Label Encoding"
   ]
  },
  {
   "cell_type": "code",
   "execution_count": 11,
   "id": "d0db1616",
   "metadata": {},
   "outputs": [
    {
     "name": "stdout",
     "output_type": "stream",
     "text": [
      "(72, 12996) (72,)\n"
     ]
    }
   ],
   "source": [
    "le = LabelEncoder()\n",
    "trainY = le.fit_transform(trainY)\n",
    "testY = le.transform(testY)\n",
    "print(trainX.shape,trainY.shape)"
   ]
  },
  {
   "cell_type": "code",
   "execution_count": 12,
   "id": "7f3f4c41",
   "metadata": {},
   "outputs": [
    {
     "data": {
      "text/plain": [
       "array([0, 0, 0, 0, 0, 0, 0, 0, 0, 0, 0, 0, 0, 0, 0, 0, 0, 0, 0, 0, 0, 0,\n",
       "       0, 0, 0, 0, 0, 0, 0, 0, 0, 0, 0, 0, 0, 0, 1, 1, 1, 1, 1, 1, 1, 1,\n",
       "       1, 1, 1, 1, 1, 1, 1, 1, 1, 1, 1, 1, 1, 1, 1, 1, 1, 1, 1, 1, 1, 1,\n",
       "       1, 1, 1, 1, 1, 1], dtype=int64)"
      ]
     },
     "execution_count": 12,
     "metadata": {},
     "output_type": "execute_result"
    }
   ],
   "source": [
    "trainY"
   ]
  },
  {
   "cell_type": "code",
   "execution_count": 13,
   "id": "9e4e7593",
   "metadata": {},
   "outputs": [
    {
     "data": {
      "text/plain": [
       "array([0, 0, 0, 0, 0, 0, 0, 0, 0, 0, 0, 0, 0, 0, 0, 1, 1, 1, 1, 1, 1, 1,\n",
       "       1, 1, 1, 1, 1, 1, 1, 1])"
      ]
     },
     "execution_count": 13,
     "metadata": {},
     "output_type": "execute_result"
    }
   ],
   "source": [
    "testY"
   ]
  },
  {
   "cell_type": "markdown",
   "id": "327038ff",
   "metadata": {},
   "source": [
    "# Model Building"
   ]
  },
  {
   "cell_type": "markdown",
   "id": "6d1c8b24",
   "metadata": {},
   "source": [
    "## Train the model"
   ]
  },
  {
   "cell_type": "code",
   "execution_count": 14,
   "id": "3cc307fb",
   "metadata": {},
   "outputs": [
    {
     "name": "stdout",
     "output_type": "stream",
     "text": [
      "Training model....\n"
     ]
    },
    {
     "data": {
      "text/plain": [
       "RandomForestClassifier()"
      ]
     },
     "execution_count": 14,
     "metadata": {},
     "output_type": "execute_result"
    }
   ],
   "source": [
    "print(\"Training model....\")\n",
    "model = RandomForestClassifier(n_estimators=100)\n",
    "model.fit(trainX,trainY)"
   ]
  },
  {
   "cell_type": "code",
   "execution_count": 15,
   "id": "de2e2cb6",
   "metadata": {},
   "outputs": [
    {
     "data": {
      "text/plain": [
       "array([0, 1, 1, 0, 0, 0, 0, 0, 0, 0, 0, 0, 0, 0, 0, 0, 1, 1, 1, 1, 1, 1,\n",
       "       1, 1, 1, 0, 0, 1, 1, 1], dtype=int64)"
      ]
     },
     "execution_count": 15,
     "metadata": {},
     "output_type": "execute_result"
    }
   ],
   "source": [
    "preds = model.predict(testX)\n",
    "preds"
   ]
  },
  {
   "cell_type": "markdown",
   "id": "839753ef",
   "metadata": {},
   "source": [
    "## Model Evaluation"
   ]
  },
  {
   "cell_type": "code",
   "execution_count": 16,
   "id": "4a861bcc",
   "metadata": {},
   "outputs": [
    {
     "data": {
      "text/plain": [
       "array([[13,  2],\n",
       "       [ 3, 12]], dtype=int64)"
      ]
     },
     "execution_count": 16,
     "metadata": {},
     "output_type": "execute_result"
    }
   ],
   "source": [
    "cnf = confusion_matrix(testY,preds)\n",
    "cnf"
   ]
  },
  {
   "cell_type": "code",
   "execution_count": 17,
   "id": "2d71d74c",
   "metadata": {},
   "outputs": [
    {
     "data": {
      "image/png": "[encoded data removed]",
      "text/plain": [
       "<Figure size 360x360 with 1 Axes>"
      ]
     },
     "metadata": {},
     "output_type": "display_data"
    }
   ],
   "source": [
    "plt.figure(figsize=(5,5))\n",
    "sns.heatmap(cnf , annot=True , cmap=\"coolwarm\" , cbar=False)\n",
    "plt.show()"
   ]
  },
  {
   "cell_type": "code",
   "execution_count": 18,
   "id": "e146ae37",
   "metadata": {},
   "outputs": [
    {
     "data": {
      "text/plain": [
       "0.8333333333333334"
      ]
     },
     "execution_count": 18,
     "metadata": {},
     "output_type": "execute_result"
    }
   ],
   "source": [
    "acc = metrics.accuracy_score(testY,preds)\n",
    "acc"
   ]
  },
  {
   "cell_type": "code",
   "execution_count": 19,
   "id": "de340ff9",
   "metadata": {},
   "outputs": [
    {
     "data": {
      "text/plain": [
       "array([17, 27, 19,  9, 27,  4, 19, 14, 24, 24, 28,  0, 26,  7, 12, 20,  5,\n",
       "        1, 21, 22,  0,  7, 25, 14,  1])"
      ]
     },
     "execution_count": 19,
     "metadata": {},
     "output_type": "execute_result"
    }
   ],
   "source": [
    "indexes = np.random.randint(0,30,25)\n",
    "indexes"
   ]
  },
  {
   "cell_type": "markdown",
   "id": "a1e0a439",
   "metadata": {},
   "source": [
    "## Test the model"
   ]
  },
  {
   "cell_type": "code",
   "execution_count": 20,
   "id": "3c6035b2",
   "metadata": {},
   "outputs": [],
   "source": [
    "testpath=list(paths.list_images(fp_spiral_train_healthy))\n",
    "idxs=np.arange(0,len(testpath))\n",
    "idxs=np.random.choice(idxs,size=(25,),replace=False)\n",
    "images=[]\n",
    "\n",
    "for i in idxs:\n",
    "    image=cv2.imread(testpath[i])\n",
    "    output=image.copy()\n",
    "    output=cv2.resize(output,(128,128))\n",
    "    image=cv2.cvtColor(image,cv2.COLOR_BGR2GRAY)\n",
    "    image=cv2.resize(image,(200,200))\n",
    "    image=cv2.threshold(image,0,255,cv2.THRESH_BINARY_INV | cv2.THRESH_OTSU)[1]\n",
    "\n",
    "    features= quantify_image(image)\n",
    "    preds=model.predict([features])\n",
    "    label=le.inverse_transform(preds)[0]\n",
    "    if label==\"healthy\":\n",
    "      color=(0,255,0) \n",
    "    else:\n",
    "      (0,0,255)\n",
    "    cv2.putText(output,label, (3,20),cv2.FONT_HERSHEY_SIMPLEX,0.5,color,2)\n",
    "    images.append(output)"
   ]
  },
  {
   "cell_type": "code",
   "execution_count": 21,
   "id": "784261e0",
   "metadata": {},
   "outputs": [
    {
     "data": {
      "text/plain": [
       "-1"
      ]
     },
     "execution_count": 21,
     "metadata": {},
     "output_type": "execute_result"
    }
   ],
   "source": [
    "montage=build_montages(images,(128,128),(5,5))[0]\n",
    "cv2.imshow('',montage)\n",
    "cv2.waitKey(0)"
   ]
  },
  {
   "cell_type": "markdown",
   "id": "c40dd9f1",
   "metadata": {},
   "source": [
    "## Model accuracy and Prediction"
   ]
  },
  {
   "cell_type": "code",
   "execution_count": 45,
   "id": "460675e5",
   "metadata": {},
   "outputs": [
    {
     "name": "stdout",
     "output_type": "stream",
     "text": [
      "[14  1  2 13]\n",
      "0.9\n"
     ]
    }
   ],
   "source": [
    "predictions = model.predict(testX)\n",
    "\n",
    "cm = confusion_matrix(testY, predictions).flatten()\n",
    "print(cm)\n",
    "(tn, fp, fn, tp) = cm\n",
    "accuracy = (tp + tn) / float(cm.sum())\n",
    "print(accuracy)"
   ]
  },
  {
   "cell_type": "markdown",
   "id": "0ce3a7f2",
   "metadata": {},
   "source": [
    "## Save the model"
   ]
  },
  {
   "cell_type": "code",
   "execution_count": 46,
   "id": "622b4087",
   "metadata": {},
   "outputs": [],
   "source": [
    "pickle.dump(model,open('parkinson.pkl','wb'))"
   ]
  },
  {
   "cell_type": "code",
   "execution_count": null,
   "id": "32b59487",
   "metadata": {},
   "outputs": [],
   "source": []
  }
 ],
 "metadata": {
  "kernelspec": {
   "display_name": "Python 3 (ipykernel)",
   "language": "python",
   "name": "python3"
  },
  "language_info": {
   "codemirror_mode": {
    "name": "ipython",
    "version": 3
   },
   "file_extension": ".py",
   "mimetype": "text/x-python",
   "name": "python",
   "nbconvert_exporter": "python",
   "pygments_lexer": "ipython3",
   "version": "3.9.7"
  }
 },
 "nbformat": 4,
 "nbformat_minor": 5
}
