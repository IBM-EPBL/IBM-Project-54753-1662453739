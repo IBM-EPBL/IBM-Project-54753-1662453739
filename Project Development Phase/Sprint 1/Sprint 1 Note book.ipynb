{
 "cells": [
  {
   "cell_type": "markdown",
   "id": "49977a8b",
   "metadata": {},
   "source": [
    "Sprint Description\n",
    "''' Sprint 1\n",
    "\n",
    "Pre-requisites Installed Anaconda, Python Packages and Jupyter Notebooks\n",
    "\n",
    "Data Collection Dataset collected from the link -\n"
   ]
  },
  {
   "cell_type": "markdown",
   "id": "dcf832d4",
   "metadata": {},
   "source": [
    "## Importing Necessary Libraries\n"
   ]
  },
  {
   "cell_type": "code",
   "execution_count": 1,
   "id": "53235fa1",
   "metadata": {},
   "outputs": [],
   "source": [
    "import numpy as np\n",
    "import pandas as pd\n",
    "import matplotlib.pyplot as plt\n",
    "import seaborn as sns\n",
    "import zipfile as zf\n",
    "import os\n",
    "import random\n",
    "import cv2\n",
    "import pickle\n",
    "from imutils import build_montages\n",
    "from imutils import paths\n",
    "from sklearn.metrics import classification_report,confusion_matrix\n",
    "from sklearn import metrics\n",
    "from sklearn.preprocessing import LabelEncoder,LabelBinarizer\n",
    "from sklearn.model_selection import train_test_split\n",
    "from sklearn.ensemble import RandomForestClassifier,GradientBoostingClassifier,ExtraTreesClassifier\n",
    "from skimage import feature"
   ]
  },
  {
   "cell_type": "code",
   "execution_count": 2,
   "id": "bc9141a1",
   "metadata": {},
   "outputs": [
    {
     "data": {
      "text/plain": [
       "'C:\\\\Users\\\\harih\\\\OneDrive\\\\Desktop\\\\IBMgithub\\\\IBM-Project-54753-1662453739\\\\Project Development Phase\\\\Sprint 1'"
      ]
     },
     "execution_count": 2,
     "metadata": {},
     "output_type": "execute_result"
    }
   ],
   "source": [
    "sns.set()\n",
    "os.getcwd()"
   ]
  },
  {
   "cell_type": "markdown",
   "id": "0546bfab",
   "metadata": {},
   "source": [
    "## Data Loading"
   ]
  },
  {
   "cell_type": "code",
   "execution_count": 3,
   "id": "66612546",
   "metadata": {},
   "outputs": [],
   "source": [
    "handle_spiral = zf.ZipFile(r'dataset.zip')\n",
    "handle_spiral.extractall('dataset')\n",
    "handle_spiral.close()"
   ]
  },
  {
   "cell_type": "code",
   "execution_count": 4,
   "id": "5f15bbee",
   "metadata": {},
   "outputs": [],
   "source": [
    "spiral_train_healthy = os.listdir('dataset/dataset/spiral/training/healthy/')\n",
    "spiral_train_park = os.listdir('dataset/dataset/spiral/training/parkinson/')\n",
    "\n",
    "fp_spiral_train_healthy = 'dataset/dataset/spiral/training/healthy/'\n",
    "fp_spiral_train_park = 'dataset/dataset/spiral/training/parkinson/'\n",
    "\n",
    "spiral_test_healthy = os.listdir('dataset/dataset/spiral/testing/healthy/')\n",
    "spiral_test_park = os.listdir('dataset/dataset/spiral/testing/parkinson/')\n",
    "\n",
    "fp_spiral_test_healthy = 'dataset/dataset/spiral/testing/healthy/'\n",
    "fp_spiral_test_park = 'dataset/dataset/spiral/testing/parkinson/'"
   ]
  },
  {
   "cell_type": "markdown",
   "id": "3a12b675",
   "metadata": {},
   "source": [
    "## Quantifying Images"
   ]
  },
  {
   "cell_type": "code",
   "execution_count": 6,
   "id": "20f5b1fd",
   "metadata": {},
   "outputs": [],
   "source": [
    "def quantify_image(image):\n",
    "  features = feature.hog(image,orientations=9,\n",
    "                pixels_per_cell=(10,10),cells_per_block=(2,2),transform_sqrt=True,block_norm=\"L1\")\n",
    "\n",
    "  return features"
   ]
  },
  {
   "cell_type": "markdown",
   "id": "d0ad120c",
   "metadata": {},
   "source": [
    "## Train Test Split"
   ]
  },
  {
   "cell_type": "code",
   "execution_count": 7,
   "id": "654026d0",
   "metadata": {},
   "outputs": [],
   "source": [
    "trainX = []\n",
    "testX = []\n",
    "outputs = []\n",
    "trainY = []\n",
    "testY = []\n",
    "\n",
    "for i in spiral_train_healthy:\n",
    "  image = cv2.imread(fp_spiral_train_healthy+i)\n",
    "  image = cv2.cvtColor(image , cv2.COLOR_BGR2GRAY)\n",
    "  image = cv2.resize(image , (200,200))\n",
    "  image =cv2.threshold(image, 0, 255,cv2.THRESH_BINARY_INV | cv2.THRESH_OTSU)[1]\n",
    "  features = quantify_image(image)\n",
    "  trainX.append(features)\n",
    "  trainY.append('healthy')\n",
    "\n",
    "for i in spiral_train_park:\n",
    "  image = cv2.imread(fp_spiral_train_park+i)\n",
    "  image = cv2.cvtColor(image , cv2.COLOR_BGR2GRAY)\n",
    "  image = cv2.resize(image , (200,200))\n",
    "  image = cv2.threshold(image ,0,255,cv2.THRESH_BINARY_INV | cv2.THRESH_OTSU)[1]\n",
    "  features = quantify_image(image)\n",
    "  trainX.append(features)\n",
    "  trainY.append('parkinson')\n",
    "\n",
    "\n",
    "for i in spiral_test_healthy:\n",
    "  image = cv2.imread(fp_spiral_test_healthy+i)\n",
    "  outputs.append(image)\n",
    "  image = cv2.cvtColor(image , cv2.COLOR_BGR2GRAY)\n",
    "  image = cv2.resize(image , (200,200))\n",
    "  image = cv2.threshold(image ,0,255,cv2.THRESH_BINARY_INV | cv2.THRESH_OTSU)[1]\n",
    "  features = quantify_image(image)\n",
    "  testX.append(features)\n",
    "  testY.append('healthy')\n",
    "\n",
    "for i in spiral_test_park:\n",
    "  image = cv2.imread(fp_spiral_test_park+i)\n",
    "  outputs.append(image)\n",
    "  image = cv2.cvtColor(image , cv2.COLOR_BGR2GRAY)\n",
    "  image = cv2.resize(image , (200,200))\n",
    "  image = cv2.threshold(image ,0,255,cv2.THRESH_BINARY_INV | cv2.THRESH_OTSU)[1]\n",
    "  features = quantify_image(image)\n",
    "  testX.append(features)\n",
    "  testY.append('parkinson')"
   ]
  },
  {
   "cell_type": "markdown",
   "id": "a3ca5546",
   "metadata": {},
   "source": [
    "Sprint 1 - Machine Learning Tasks\n",
    "Data Preprocessing\n",
    "Quantifying images\n",
    "Status : Completed\n",
    "\n",
    "Sprint 1 Planned : 25%\n",
    "Sprint 1 Completed : 25%\n",
    "\n",
    "Total Completed Status : 25/100%"
   ]
  },
  {
   "cell_type": "code",
   "execution_count": null,
   "id": "7ecda021",
   "metadata": {},
   "outputs": [],
   "source": []
  }
 ],
 "metadata": {
  "kernelspec": {
   "display_name": "Python 3 (ipykernel)",
   "language": "python",
   "name": "python3"
  },
  "language_info": {
   "codemirror_mode": {
    "name": "ipython",
    "version": 3
   },
   "file_extension": ".py",
   "mimetype": "text/x-python",
   "name": "python",
   "nbconvert_exporter": "python",
   "pygments_lexer": "ipython3",
   "version": "3.9.7"
  }
 },
 "nbformat": 4,
 "nbformat_minor": 5
}
