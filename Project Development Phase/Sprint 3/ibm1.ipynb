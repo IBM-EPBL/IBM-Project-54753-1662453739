{
 "cells": [
  {
   "cell_type": "code",
   "execution_count": 8,
   "id": "bc529733",
   "metadata": {},
   "outputs": [],
   "source": [
    "import numpy as np\n",
    "import pandas as pd\n",
    "import matplotlib.pyplot as plt\n",
    "import seaborn as sns\n",
    "import zipfile as zf\n",
    "import os\n",
    "import random\n",
    "import cv2\n",
    "import pickle\n",
    "from imutils import build_montages\n",
    "from imutils import paths\n",
    "from sklearn.metrics import classification_report,confusion_matrix\n",
    "from sklearn import metrics\n",
    "from sklearn.preprocessing import LabelEncoder,LabelBinarizer\n",
    "from sklearn.model_selection import train_test_split\n",
    "from sklearn.ensemble import RandomForestClassifier,GradientBoostingClassifier,ExtraTreesClassifier\n",
    "from skimage import feature\n",
    "#from google.colab.patches import cv2_imshow"
   ]
  },
  {
   "cell_type": "code",
   "execution_count": 9,
   "id": "5787d57d",
   "metadata": {},
   "outputs": [
    {
     "data": {
      "text/plain": [
       "'C:\\\\Users\\\\harih\\\\OneDrive\\\\Desktop\\\\IBM Project'"
      ]
     },
     "execution_count": 9,
     "metadata": {},
     "output_type": "execute_result"
    }
   ],
   "source": [
    "sns.set()\n",
    "os.getcwd()"
   ]
  },
  {
   "cell_type": "code",
   "execution_count": 11,
   "id": "feadf4b6",
   "metadata": {},
   "outputs": [],
   "source": [
    "handle_spiral = zf.ZipFile(r'dataset.zip')\n",
    "handle_spiral.extractall('dataset')\n",
    "handle_spiral.close()"
   ]
  },
  {
   "cell_type": "code",
   "execution_count": 15,
   "id": "12879af2",
   "metadata": {},
   "outputs": [],
   "source": [
    "spiral_train_healthy = os.listdir('dataset/dataset/spiral/training/healthy/')\n",
    "spiral_train_park = os.listdir('dataset/dataset/spiral/training/parkinson/')\n",
    "\n",
    "fp_spiral_train_healthy = 'dataset/dataset/spiral/training/healthy/'\n",
    "fp_spiral_train_park = 'dataset/dataset/spiral/training/parkinson/'\n",
    "\n",
    "spiral_test_healthy = os.listdir('dataset/dataset/spiral/testing/healthy/')\n",
    "spiral_test_park = os.listdir('dataset/dataset/spiral/testing/parkinson/')\n",
    "\n",
    "fp_spiral_test_healthy = 'dataset/dataset/spiral/testing/healthy/'\n",
    "fp_spiral_test_park = 'dataset/dataset/spiral/testing/parkinson/'"
   ]
  },
  {
   "cell_type": "code",
   "execution_count": 16,
   "id": "0fe8b99a",
   "metadata": {},
   "outputs": [],
   "source": [
    "def quantify_image(image):\n",
    "  features = feature.hog(image,orientations=9,\n",
    "                pixels_per_cell=(10,10),cells_per_block=(2,2),transform_sqrt=True,block_norm=\"L1\")\n",
    "\n",
    "  return features"
   ]
  },
  {
   "cell_type": "code",
   "execution_count": 17,
   "id": "e8b8102f",
   "metadata": {},
   "outputs": [],
   "source": [
    "trainX = []\n",
    "testX = []\n",
    "outputs = []\n",
    "trainY = []\n",
    "testY = []\n",
    "\n",
    "for i in spiral_train_healthy:\n",
    "  image = cv2.imread(fp_spiral_train_healthy+i)\n",
    "  image = cv2.cvtColor(image , cv2.COLOR_BGR2GRAY)\n",
    "  image = cv2.resize(image , (200,200))\n",
    "  image =cv2.threshold(image, 0, 255,cv2.THRESH_BINARY_INV | cv2.THRESH_OTSU)[1]\n",
    "  features = quantify_image(image)\n",
    "  trainX.append(features)\n",
    "  trainY.append('healthy')\n",
    "\n",
    "for i in spiral_train_park:\n",
    "  image = cv2.imread(fp_spiral_train_park+i)\n",
    "  image = cv2.cvtColor(image , cv2.COLOR_BGR2GRAY)\n",
    "  image = cv2.resize(image , (200,200))\n",
    "  image = cv2.threshold(image ,0,255,cv2.THRESH_BINARY_INV | cv2.THRESH_OTSU)[1]\n",
    "  features = quantify_image(image)\n",
    "  trainX.append(features)\n",
    "  trainY.append('parkinson')\n",
    "\n",
    "\n",
    "for i in spiral_test_healthy:\n",
    "  image = cv2.imread(fp_spiral_test_healthy+i)\n",
    "  outputs.append(image)\n",
    "  image = cv2.cvtColor(image , cv2.COLOR_BGR2GRAY)\n",
    "  image = cv2.resize(image , (200,200))\n",
    "  image = cv2.threshold(image ,0,255,cv2.THRESH_BINARY_INV | cv2.THRESH_OTSU)[1]\n",
    "  features = quantify_image(image)\n",
    "  testX.append(features)\n",
    "  testY.append('healthy')\n",
    "\n",
    "for i in spiral_test_park:\n",
    "  image = cv2.imread(fp_spiral_test_park+i)\n",
    "  outputs.append(image)\n",
    "  image = cv2.cvtColor(image , cv2.COLOR_BGR2GRAY)\n",
    "  image = cv2.resize(image , (200,200))\n",
    "  image = cv2.threshold(image ,0,255,cv2.THRESH_BINARY_INV | cv2.THRESH_OTSU)[1]\n",
    "  features = quantify_image(image)\n",
    "  testX.append(features)\n",
    "  testY.append('parkinson')"
   ]
  },
  {
   "cell_type": "code",
   "execution_count": 18,
   "id": "425a370c",
   "metadata": {},
   "outputs": [
    {
     "data": {
      "text/plain": [
       "array([[0., 0., 0., ..., 0., 0., 0.],\n",
       "       [0., 0., 0., ..., 0., 0., 0.],\n",
       "       [0., 0., 0., ..., 0., 0., 0.],\n",
       "       ...,\n",
       "       [0., 0., 0., ..., 0., 0., 0.],\n",
       "       [0., 0., 0., ..., 0., 0., 0.],\n",
       "       [0., 0., 0., ..., 0., 0., 0.]])"
      ]
     },
     "execution_count": 18,
     "metadata": {},
     "output_type": "execute_result"
    }
   ],
   "source": [
    "trainX = np.array(trainX)\n",
    "testX = np.array(testX)\n",
    "trainY = np.array(trainY)\n",
    "testY = np.array(testY)\n",
    "trainX"
   ]
  },
  {
   "cell_type": "code",
   "execution_count": 19,
   "id": "249e1a6f",
   "metadata": {},
   "outputs": [
    {
     "data": {
      "text/plain": [
       "array(['healthy', 'healthy', 'healthy', 'healthy', 'healthy', 'healthy',\n",
       "       'healthy', 'healthy', 'healthy', 'healthy', 'healthy', 'healthy',\n",
       "       'healthy', 'healthy', 'healthy', 'healthy', 'healthy', 'healthy',\n",
       "       'healthy', 'healthy', 'healthy', 'healthy', 'healthy', 'healthy',\n",
       "       'healthy', 'healthy', 'healthy', 'healthy', 'healthy', 'healthy',\n",
       "       'healthy', 'healthy', 'healthy', 'healthy', 'healthy', 'healthy',\n",
       "       'parkinson', 'parkinson', 'parkinson', 'parkinson', 'parkinson',\n",
       "       'parkinson', 'parkinson', 'parkinson', 'parkinson', 'parkinson',\n",
       "       'parkinson', 'parkinson', 'parkinson', 'parkinson', 'parkinson',\n",
       "       'parkinson', 'parkinson', 'parkinson', 'parkinson', 'parkinson',\n",
       "       'parkinson', 'parkinson', 'parkinson', 'parkinson', 'parkinson',\n",
       "       'parkinson', 'parkinson', 'parkinson', 'parkinson', 'parkinson',\n",
       "       'parkinson', 'parkinson', 'parkinson', 'parkinson', 'parkinson',\n",
       "       'parkinson'], dtype='<U9')"
      ]
     },
     "execution_count": 19,
     "metadata": {},
     "output_type": "execute_result"
    }
   ],
   "source": [
    "trainY"
   ]
  },
  {
   "cell_type": "code",
   "execution_count": 20,
   "id": "a1b9c3aa",
   "metadata": {},
   "outputs": [
    {
     "data": {
      "text/plain": [
       "array([[0., 0., 0., ..., 0., 0., 0.],\n",
       "       [0., 0., 0., ..., 0., 0., 0.],\n",
       "       [0., 0., 0., ..., 0., 0., 0.],\n",
       "       ...,\n",
       "       [0., 0., 0., ..., 0., 0., 0.],\n",
       "       [0., 0., 0., ..., 0., 0., 0.],\n",
       "       [0., 0., 0., ..., 0., 0., 0.]])"
      ]
     },
     "execution_count": 20,
     "metadata": {},
     "output_type": "execute_result"
    }
   ],
   "source": [
    "testX"
   ]
  },
  {
   "cell_type": "code",
   "execution_count": 21,
   "id": "a4289d85",
   "metadata": {},
   "outputs": [
    {
     "data": {
      "text/plain": [
       "array(['healthy', 'healthy', 'healthy', 'healthy', 'healthy', 'healthy',\n",
       "       'healthy', 'healthy', 'healthy', 'healthy', 'healthy', 'healthy',\n",
       "       'healthy', 'healthy', 'healthy', 'parkinson', 'parkinson',\n",
       "       'parkinson', 'parkinson', 'parkinson', 'parkinson', 'parkinson',\n",
       "       'parkinson', 'parkinson', 'parkinson', 'parkinson', 'parkinson',\n",
       "       'parkinson', 'parkinson', 'parkinson'], dtype='<U9')"
      ]
     },
     "execution_count": 21,
     "metadata": {},
     "output_type": "execute_result"
    }
   ],
   "source": [
    "testY"
   ]
  },
  {
   "cell_type": "code",
   "execution_count": 31,
   "id": "6986257f",
   "metadata": {},
   "outputs": [
    {
     "name": "stdout",
     "output_type": "stream",
     "text": [
      "(72, 12996) (72,)\n"
     ]
    }
   ],
   "source": [
    "le = LabelEncoder()\n",
    "trainY = le.fit_transform(trainY)\n",
    "testY = le.transform(testY)\n",
    "print(trainX.shape,trainY.shape)"
   ]
  },
  {
   "cell_type": "code",
   "execution_count": 32,
   "id": "f1de98e6",
   "metadata": {},
   "outputs": [
    {
     "data": {
      "text/plain": [
       "array([0, 0, 0, 0, 0, 0, 0, 0, 0, 0, 0, 0, 0, 0, 0, 0, 0, 0, 0, 0, 0, 0,\n",
       "       0, 0, 0, 0, 0, 0, 0, 0, 0, 0, 0, 0, 0, 0, 1, 1, 1, 1, 1, 1, 1, 1,\n",
       "       1, 1, 1, 1, 1, 1, 1, 1, 1, 1, 1, 1, 1, 1, 1, 1, 1, 1, 1, 1, 1, 1,\n",
       "       1, 1, 1, 1, 1, 1], dtype=int64)"
      ]
     },
     "execution_count": 32,
     "metadata": {},
     "output_type": "execute_result"
    }
   ],
   "source": [
    "trainY"
   ]
  },
  {
   "cell_type": "code",
   "execution_count": 33,
   "id": "50ff8061",
   "metadata": {},
   "outputs": [
    {
     "data": {
      "text/plain": [
       "array([0, 0, 0, 0, 0, 0, 0, 0, 0, 0, 0, 0, 0, 0, 0, 1, 1, 1, 1, 1, 1, 1,\n",
       "       1, 1, 1, 1, 1, 1, 1, 1])"
      ]
     },
     "execution_count": 33,
     "metadata": {},
     "output_type": "execute_result"
    }
   ],
   "source": [
    "testY"
   ]
  },
  {
   "cell_type": "code",
   "execution_count": 34,
   "id": "1d85d8a1",
   "metadata": {},
   "outputs": [
    {
     "name": "stdout",
     "output_type": "stream",
     "text": [
      "Training model....\n"
     ]
    },
    {
     "data": {
      "text/plain": [
       "RandomForestClassifier()"
      ]
     },
     "execution_count": 34,
     "metadata": {},
     "output_type": "execute_result"
    }
   ],
   "source": [
    "print(\"Training model....\")\n",
    "model = RandomForestClassifier(n_estimators=100)\n",
    "model.fit(trainX,trainY)"
   ]
  },
  {
   "cell_type": "code",
   "execution_count": 35,
   "id": "ae55c2bc",
   "metadata": {},
   "outputs": [
    {
     "data": {
      "text/plain": [
       "array([0, 1, 0, 0, 0, 0, 0, 0, 0, 0, 0, 0, 0, 0, 0, 0, 1, 1, 1, 1, 1, 1,\n",
       "       1, 1, 1, 1, 0, 1, 1, 1], dtype=int64)"
      ]
     },
     "execution_count": 35,
     "metadata": {},
     "output_type": "execute_result"
    }
   ],
   "source": [
    "preds = model.predict(testX)\n",
    "preds"
   ]
  },
  {
   "cell_type": "code",
   "execution_count": 36,
   "id": "b1d51175",
   "metadata": {},
   "outputs": [
    {
     "data": {
      "text/plain": [
       "array([[14,  1],\n",
       "       [ 2, 13]], dtype=int64)"
      ]
     },
     "execution_count": 36,
     "metadata": {},
     "output_type": "execute_result"
    }
   ],
   "source": [
    "cnf = confusion_matrix(testY,preds)\n",
    "cnf"
   ]
  },
  {
   "cell_type": "code",
   "execution_count": 37,
   "id": "7fe1d491",
   "metadata": {},
   "outputs": [
    {
     "data": {
      "image/png": "[encoded data removed]",
      "text/plain": [
       "<Figure size 360x360 with 1 Axes>"
      ]
     },
     "metadata": {},
     "output_type": "display_data"
    }
   ],
   "source": [
    "plt.figure(figsize=(5,5))\n",
    "sns.heatmap(cnf , annot=True , cmap=\"coolwarm\" , cbar=False)\n",
    "plt.show()"
   ]
  },
  {
   "cell_type": "code",
   "execution_count": 38,
   "id": "84f79139",
   "metadata": {},
   "outputs": [
    {
     "data": {
      "text/plain": [
       "0.9"
      ]
     },
     "execution_count": 38,
     "metadata": {},
     "output_type": "execute_result"
    }
   ],
   "source": [
    "acc = metrics.accuracy_score(testY,preds)\n",
    "acc"
   ]
  },
  {
   "cell_type": "code",
   "execution_count": 39,
   "id": "2993b401",
   "metadata": {},
   "outputs": [
    {
     "data": {
      "text/plain": [
       "array([17, 20, 21,  0, 22, 23, 19, 22,  6, 19, 18, 20, 19,  1,  4, 26,  4,\n",
       "       18, 25, 24, 14, 20,  9, 11, 25])"
      ]
     },
     "execution_count": 39,
     "metadata": {},
     "output_type": "execute_result"
    }
   ],
   "source": [
    "indexes = np.random.randint(0,30,25)\n",
    "indexes"
   ]
  },
  {
   "cell_type": "code",
   "execution_count": 40,
   "id": "a87690dd",
   "metadata": {},
   "outputs": [],
   "source": [
    "testpath=list(paths.list_images(fp_spiral_train_healthy))\n",
    "idxs=np.arange(0,len(testpath))\n",
    "idxs=np.random.choice(idxs,size=(25,),replace=False)\n",
    "images=[]\n",
    "\n",
    "for i in idxs:\n",
    "    image=cv2.imread(testpath[i])\n",
    "    output=image.copy()\n",
    "    output=cv2.resize(output,(128,128))\n",
    "    image=cv2.cvtColor(image,cv2.COLOR_BGR2GRAY)\n",
    "    image=cv2.resize(image,(200,200))\n",
    "    image=cv2.threshold(image,0,255,cv2.THRESH_BINARY_INV | cv2.THRESH_OTSU)[1]\n",
    "\n",
    "    features= quantify_image(image)\n",
    "    preds=model.predict([features])\n",
    "    label=le.inverse_transform(preds)[0]\n",
    "    if label==\"healthy\":\n",
    "      color=(0,255,0) \n",
    "    else:\n",
    "      (0,0,255)\n",
    "    cv2.putText(output,label, (3,20),cv2.FONT_HERSHEY_SIMPLEX,0.5,color,2)\n",
    "    images.append(output)"
   ]
  },
  {
   "cell_type": "code",
   "execution_count": 44,
   "id": "e626bbf3",
   "metadata": {},
   "outputs": [
    {
     "data": {
      "text/plain": [
       "-1"
      ]
     },
     "execution_count": 44,
     "metadata": {},
     "output_type": "execute_result"
    }
   ],
   "source": [
    "montage=build_montages(images,(128,128),(5,5))[0]\n",
    "cv2.imshow('',montage)\n",
    "cv2.waitKey(0)"
   ]
  },
  {
   "cell_type": "code",
   "execution_count": 45,
   "id": "c5291d5c",
   "metadata": {},
   "outputs": [
    {
     "name": "stdout",
     "output_type": "stream",
     "text": [
      "[14  1  2 13]\n",
      "0.9\n"
     ]
    }
   ],
   "source": [
    "predictions = model.predict(testX)\n",
    "\n",
    "cm = confusion_matrix(testY, predictions).flatten()\n",
    "print(cm)\n",
    "(tn, fp, fn, tp) = cm\n",
    "accuracy = (tp + tn) / float(cm.sum())\n",
    "print(accuracy)"
   ]
  },
  {
   "cell_type": "code",
   "execution_count": 46,
   "id": "86e713c5",
   "metadata": {},
   "outputs": [],
   "source": [
    "pickle.dump(model,open('parkinson.pkl','wb'))"
   ]
  },
  {
   "cell_type": "code",
   "execution_count": null,
   "id": "392e31d5",
   "metadata": {},
   "outputs": [],
   "source": []
  }
 ],
 "metadata": {
  "kernelspec": {
   "display_name": "Python 3 (ipykernel)",
   "language": "python",
   "name": "python3"
  },
  "language_info": {
   "codemirror_mode": {
    "name": "ipython",
    "version": 3
   },
   "file_extension": ".py",
   "mimetype": "text/x-python",
   "name": "python",
   "nbconvert_exporter": "python",
   "pygments_lexer": "ipython3",
   "version": "3.9.7"
  }
 },
 "nbformat": 4,
 "nbformat_minor": 5
}
